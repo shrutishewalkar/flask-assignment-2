{
 "cells": [
  {
   "cell_type": "markdown",
   "id": "1d6362b4-3902-4d16-a94d-99354e5f5be6",
   "metadata": {},
   "source": [
    "Que 1: explain GET and POST methods"
   ]
  },
  {
   "cell_type": "markdown",
   "id": "98d517af-8170-4cb8-bd33-bff34003b242",
   "metadata": {},
   "source": [
    "Ans: Get and post methods are the HTTP request methods used inside the form tag to send form data to the server.\n",
    "GET method is used to submit the HTML form data. this data is collceted by the predefined get variable for processing.\n",
    "post similar to the GET method , the post method is also used to submit the HTML form data. but thhe data submitted by the method is collected by the predefined superglobal variable post instead of $_get"
   ]
  },
  {
   "cell_type": "markdown",
   "id": "801eed87-5fb4-4ea2-8590-856de6ec1f2f",
   "metadata": {},
   "source": [
    "Que 2: why is request used in flask?"
   ]
  },
  {
   "cell_type": "markdown",
   "id": "66e3041e-102e-4aa2-b7b6-5bf499bbf632",
   "metadata": {},
   "source": [
    "Ans: In client server architecture, the request object contains all the data that is sent from the client to the server.when flask handeld a request, it creates a Request obect based on the environment it received from the WSGI server."
   ]
  },
  {
   "cell_type": "markdown",
   "id": "30dcdad6-9222-44f0-a72c-1acebda15211",
   "metadata": {},
   "source": [
    "Que3 : why is redirect() used in flask"
   ]
  },
  {
   "cell_type": "markdown",
   "id": "89b98f46-efbd-4468-8fdf-3482cd324ea2",
   "metadata": {},
   "source": [
    "Ans: flask class has a redirect() function. when called, it retrurns a responce object and redirect the user toanother target location with specific status code. location parameter is the url where responceshould be redirected"
   ]
  },
  {
   "cell_type": "markdown",
   "id": "13393338-c575-4731-9e47-12c226f4087a",
   "metadata": {},
   "source": [
    "Que4: what are templates in flask ?why is the render_template() fun used?"
   ]
  },
  {
   "cell_type": "code",
   "execution_count": null,
   "id": "d32ecf83-1282-4986-b27b-6687c3fe20dd",
   "metadata": {},
   "outputs": [],
   "source": [
    "Ans: Templates are files that contain static data as wll as placeholders for dynamic data\n",
    "The render_templates is used to generate output from a template file based on the jinj"
   ]
  }
 ],
 "metadata": {
  "kernelspec": {
   "display_name": "Python 3 (ipykernel)",
   "language": "python",
   "name": "python3"
  },
  "language_info": {
   "codemirror_mode": {
    "name": "ipython",
    "version": 3
   },
   "file_extension": ".py",
   "mimetype": "text/x-python",
   "name": "python",
   "nbconvert_exporter": "python",
   "pygments_lexer": "ipython3",
   "version": "3.10.8"
  }
 },
 "nbformat": 4,
 "nbformat_minor": 5
}
